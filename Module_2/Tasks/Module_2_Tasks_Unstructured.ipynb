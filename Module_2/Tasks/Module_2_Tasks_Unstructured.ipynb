{
 "cells": [
  {
   "cell_type": "markdown",
   "id": "d57f951c-e51e-47d8-865c-3115b8744eb1",
   "metadata": {},
   "source": [
    "# Instructions"
   ]
  },
  {
   "cell_type": "markdown",
   "id": "73aa2287-0729-4333-95a5-661d99e61b8b",
   "metadata": {},
   "source": [
    "## Question 1:\n",
    "\n",
    "Given the file `full_text.txt` in the provided S3 bucket, create a JSON output that has the keys `Goodwill`, `Stockholders_Equity_Common_Stock` and `Total_Revenue`.  The values should be a list of all values found for these keys."
   ]
  },
  {
   "cell_type": "code",
   "execution_count": null,
   "id": "bb10ebb9-0e9b-4360-97a5-ec2c41ae0864",
   "metadata": {},
   "outputs": [],
   "source": []
  },
  {
   "cell_type": "markdown",
   "id": "c67bf5f7-ce4d-4c02-ae42-0298061c4844",
   "metadata": {},
   "source": [
    "## Question 2:\n",
    "\n",
    "Utilizing the same file, you have been asked to explore trends in the stock-based compensation expenses.  Create an email to Gaurav Tandon with this analysis."
   ]
  },
  {
   "cell_type": "code",
   "execution_count": null,
   "id": "0aa52e1f-ccce-4d24-b8db-d2e2c6d5b85b",
   "metadata": {},
   "outputs": [],
   "source": []
  },
  {
   "cell_type": "markdown",
   "id": "b654814e-b25c-4aa2-a0f5-696e8bea52c0",
   "metadata": {},
   "source": [
    "## Question 3:\n",
    "\n",
    "Utilizing the file `schedule_14a.txt` in the S3 bucket, create a list of JSON based on this file where the keys are `Proposal name`, `Proposal text`, and `Board recommendation`.  Find all proposals under vote in this document and populate the values with the relevant information."
   ]
  },
  {
   "cell_type": "code",
   "execution_count": null,
   "id": "19e00dec-5377-4893-bc50-6c1cdfb7090e",
   "metadata": {},
   "outputs": [],
   "source": []
  },
  {
   "cell_type": "markdown",
   "id": "fc85fe8f-70a8-4d82-9805-6f41e7ca8a38",
   "metadata": {},
   "source": [
    "## Question 4:\n",
    "Using the same file as for Question 3, create a list of JSON with the keys `name`, `role`, and `term expiration`.  Populate it with the members of the board."
   ]
  },
  {
   "cell_type": "code",
   "execution_count": null,
   "id": "68f1abc7-22d5-434f-a542-ba89721055d9",
   "metadata": {},
   "outputs": [],
   "source": []
  }
 ],
 "metadata": {
  "kernelspec": {
   "display_name": "Python 3 (ipykernel)",
   "language": "python",
   "name": "python3"
  },
  "language_info": {
   "codemirror_mode": {
    "name": "ipython",
    "version": 3
   },
   "file_extension": ".py",
   "mimetype": "text/x-python",
   "name": "python",
   "nbconvert_exporter": "python",
   "pygments_lexer": "ipython3",
   "version": "3.11.11"
  }
 },
 "nbformat": 4,
 "nbformat_minor": 5
}
