{
 "cells": [
  {
   "cell_type": "markdown",
   "id": "eae171cc-354b-4a52-9f29-366fe5268bd6",
   "metadata": {},
   "source": [
    "# Instructions"
   ]
  },
  {
   "cell_type": "markdown",
   "id": "e1e6dd5a-3681-4eca-93ef-c211fa957a06",
   "metadata": {},
   "source": [
    "## Question 1:\n",
    "\n",
    "Using the file `balance_sheet.csv` in the S3 bucket, provide a JSON array output of the keys `Year`, `TotalAssets`, `CashAndSTInvestments`, and `CashSTGrowth`, populating these values for each year from the data."
   ]
  },
  {
   "cell_type": "code",
   "execution_count": null,
   "id": "e847d198-a8d7-4f75-b656-e12b2e411aa4",
   "metadata": {},
   "outputs": [],
   "source": []
  },
  {
   "cell_type": "markdown",
   "id": "b92fdca7-08e5-4bf6-be7b-42fc11df6e53",
   "metadata": {},
   "source": [
    "## Question 2:\n",
    "Using the same file, compute the liquidity ratio for each year (defined as Cash & Short Term Investments divided by Total Assets) and calculate the year-over-year asset growth percentage for each consecutive pair of years. Then, output your results as a valid JSON object with two keys: \"LiquidityMetrics\" (an array of objects, each containing the year and its corresponding liquidity ratio) and \"AssetTrends\" (an array of objects for each year, starting from the second, with the computed asset growth percentage)."
   ]
  },
  {
   "cell_type": "code",
   "execution_count": null,
   "id": "79380b63-11d7-44db-92c7-6f065d6b412e",
   "metadata": {},
   "outputs": [],
   "source": []
  },
  {
   "cell_type": "markdown",
   "id": "2c03dbce-8413-4737-a3dd-a726dfab4b65",
   "metadata": {},
   "source": [
    "## Question 3:\n",
    "\n",
    "Given the earnings report available in `full_text.txt` in the S3 bucket, extract the condensed consolidated balance sheets and output that information in a markdown table. "
   ]
  },
  {
   "cell_type": "code",
   "execution_count": null,
   "id": "df04a088-97a4-4977-8b9f-fd612d7b9af2",
   "metadata": {},
   "outputs": [],
   "source": []
  },
  {
   "cell_type": "markdown",
   "id": "98e73fb1-9428-4fd1-8168-2d65dcaefc65",
   "metadata": {},
   "source": [
    "## Question 4:\n",
    "\n",
    "Using the same file as Question 3, extract year-over-year financial data for three metrics—gross profit, total operating expenses, and net income and calculate the differences and percentage changes. The output must be a JSON array where each element is an object containing the keys \"metric\", \"current\", \"previous\", \"difference\", and \"percentage_change\". Each value should be represented as a string with appropriate units (e.g., \"100.0 million\" or \"10.0%\"), and no additional text or separate JSON arrays should be included."
   ]
  },
  {
   "cell_type": "code",
   "execution_count": null,
   "id": "224f3081-904d-4022-9bc4-7961abdaebc5",
   "metadata": {},
   "outputs": [],
   "source": []
  }
 ],
 "metadata": {
  "kernelspec": {
   "display_name": "Python 3 (ipykernel)",
   "language": "python",
   "name": "python3"
  },
  "language_info": {
   "codemirror_mode": {
    "name": "ipython",
    "version": 3
   },
   "file_extension": ".py",
   "mimetype": "text/x-python",
   "name": "python",
   "nbconvert_exporter": "python",
   "pygments_lexer": "ipython3",
   "version": "3.11.11"
  }
 },
 "nbformat": 4,
 "nbformat_minor": 5
}
