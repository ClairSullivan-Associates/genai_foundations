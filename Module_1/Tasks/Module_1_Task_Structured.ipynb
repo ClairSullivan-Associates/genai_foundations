{
 "cells": [
  {
   "cell_type": "code",
   "execution_count": null,
   "metadata": {},
   "outputs": [],
   "source": [
    "!pip install boto3\n",
    "!pip install langchain\n",
    "!pip install langchain_aws"
   ]
  },
  {
   "cell_type": "code",
   "execution_count": null,
   "metadata": {},
   "outputs": [],
   "source": [
    "AWS_DEFAULT_REGION=\"...\"\n",
    "AWS_ACCESS_KEY_ID=\"...\"\n",
    "AWS_SECRET_ACCESS_KEY=\"...\"\n",
    "AWS_SESSION_TOKEN=\"...\""
   ]
  },
  {
   "cell_type": "code",
   "execution_count": null,
   "metadata": {},
   "outputs": [],
   "source": [
    "import json\n",
    "from pprint import pprint\n",
    "import boto3\n",
    "\n",
    "from langchain.chains import LLMChain\n",
    "from langchain_aws import ChatBedrock\n",
    "from langchain.prompts import ChatPromptTemplate, SystemMessagePromptTemplate, HumanMessagePromptTemplate\n",
    "from langchain.memory import ConversationBufferMemory\n",
    "from langchain_core.output_parsers import StrOutputParser, JsonOutputParser\n",
    "from langchain_core.runnables import RunnableLambda"
   ]
  },
  {
   "cell_type": "markdown",
   "metadata": {},
   "source": [
    "# Instructions\n",
    "\n",
    "For the questions in this assignment you will be utilizing the file `ecommerce.csv` in the provided S3 bucket."
   ]
  },
  {
   "cell_type": "markdown",
   "metadata": {},
   "source": [
    "# Question 1:\n",
    "\n",
    "Using the dataset, identify the top three best-selling products in each country based on total quantity sold. For each product, calculate the total quantity sold and the total revenue (Quantity × UnitPrice). Return your answer as a JSON object where each key is a country and its value is a list of the top three products with their 'Description', 'Total Quantity Sold', and 'Total Revenue'."
   ]
  },
  {
   "cell_type": "code",
   "execution_count": null,
   "metadata": {},
   "outputs": [],
   "source": []
  },
  {
   "cell_type": "markdown",
   "metadata": {},
   "source": [
    "# Question 2:\n",
    "\n",
    "Analyze the dataset to compute the average spending per invoice for each country. For every invoice, sum the product of Quantity and UnitPrice to determine its total, then average these totals for each country. Identify which country has the highest average invoice spending. Return your answer in JSON format with each country and its average spending, along with a separate field for the country with the highest average."
   ]
  },
  {
   "cell_type": "code",
   "execution_count": null,
   "metadata": {},
   "outputs": [],
   "source": []
  },
  {
   "cell_type": "markdown",
   "metadata": {},
   "source": [
    "# Question 3:\n",
    "\n",
    "Examine the 'InvoiceDate' field to determine if there are any seasonal patterns in the sales data. Identify the time period (day, week, or month) that shows the highest total sales revenue (calculated as Quantity × UnitPrice). Provide supporting metrics such as total revenue for each period and any observed trends. Return your analysis in JSON format with clear supporting metrics for each period."
   ]
  },
  {
   "cell_type": "code",
   "execution_count": null,
   "metadata": {},
   "outputs": [],
   "source": []
  },
  {
   "cell_type": "markdown",
   "metadata": {},
   "source": [
    "# Question 4:\n",
    "\n",
    "For each product (identified by 'StockCode'), compute the average UnitPrice. Then, identify any transactions where the UnitPrice deviates by more than 50% from the product’s average. For each StockCode, list the average UnitPrice and any outlier transactions (including InvoiceNo, InvoiceDate, UnitPrice, and Quantity). Return your findings in JSON format."
   ]
  },
  {
   "cell_type": "code",
   "execution_count": null,
   "metadata": {},
   "outputs": [],
   "source": []
  }
 ],
 "metadata": {
  "kernelspec": {
   "display_name": "Python 3",
   "language": "python",
   "name": "python3"
  },
  "language_info": {
   "name": "python",
   "version": "3.11.11"
  }
 },
 "nbformat": 4,
 "nbformat_minor": 2
}
