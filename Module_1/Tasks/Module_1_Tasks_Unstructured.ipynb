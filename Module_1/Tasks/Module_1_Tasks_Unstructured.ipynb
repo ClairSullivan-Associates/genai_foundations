{
 "cells": [
  {
   "cell_type": "code",
   "execution_count": null,
   "metadata": {
    "id": "r7M57G4hzFoJ"
   },
   "outputs": [],
   "source": [
    "import json\n",
    "from pprint import pprint\n",
    "import boto3\n",
    "\n",
    "from langchain.chains import LLMChain\n",
    "from langchain_aws import ChatBedrock\n",
    "from langchain.prompts import ChatPromptTemplate, SystemMessagePromptTemplate, HumanMessagePromptTemplate\n",
    "from langchain.memory import ConversationBufferMemory\n",
    "from langchain_core.output_parsers import StrOutputParser, JsonOutputParser\n",
    "from langchain_core.runnables import RunnableLambda"
   ]
  },
  {
   "cell_type": "code",
   "execution_count": null,
   "metadata": {
    "id": "mtQadp4Iy94g"
   },
   "outputs": [],
   "source": [
    "session = boto3.session.Session()\n",
    "region = session.region_name"
   ]
  },
  {
   "cell_type": "markdown",
   "metadata": {},
   "source": [
    "# Instructions\n",
    "\n",
    "For this assignment you will be using the file `press_release.txt` in the provided S3 bucket."
   ]
  },
  {
   "cell_type": "markdown",
   "metadata": {
    "id": "6Wcr7nlBzIat"
   },
   "source": [
    "## Question 1:\n",
    "Calculate the previous year's Q2 figures for subscription fees and transaction fees given that the current quarter’s subscription fees are \\$67.7 million (up 7% YoY) and transaction fees are \\$251.9 million (up 19% YoY). Then, verify that the sum of these base amounts aligns with the reported overall 16% increase to a current core revenue of \\$319.6 million. Show all your work and calculations."
   ]
  },
  {
   "cell_type": "code",
   "execution_count": null,
   "metadata": {
    "id": "v-ql0xo5zSiF"
   },
   "outputs": [],
   "source": []
  },
  {
   "cell_type": "markdown",
   "metadata": {
    "id": "4oDUdfiBzhf9"
   },
   "source": [
    "## Question 2:\n",
    "\n",
    "Analyze the Q2 FY25 actual financial results presented in the document.  Discuss how the changes in core revenue, total revenue, operating loss, and net income reflect the company's performance, and explain what these figures might indicate about the company's overall growth trajectory and operational efficiency.  Provide a detailed analysis with supporting insights."
   ]
  },
  {
   "cell_type": "code",
   "execution_count": null,
   "metadata": {
    "id": "lrvN1cgOztzf"
   },
   "outputs": [],
   "source": []
  },
  {
   "cell_type": "markdown",
   "metadata": {
    "id": "qC0wmukgzuaF"
   },
   "source": [
    "## Question 3:\n",
    "\n",
    "Summarize the key differences between GAAP and non-GAAP financial measures as detailed in the press release. Identify which items are excluded from the non-GAAP calculations and discuss the rationale behind these exclusions from the perspective of financial analysis and investor decision-making."
   ]
  },
  {
   "cell_type": "code",
   "execution_count": null,
   "metadata": {
    "id": "D1-MXTuLz0SY"
   },
   "outputs": [],
   "source": []
  },
  {
   "cell_type": "markdown",
   "metadata": {
    "id": "YPwIau8oz1Hp"
   },
   "source": [
    "## Question 4:\n",
    "\n",
    "From the forward-looking statements section, identify at least three major risks or uncertainties that BILL highlights as potentially affecting future performance. Provide a detailed analysis of how each risk could impact the company’s financial results and the overall business outlook."
   ]
  },
  {
   "cell_type": "code",
   "execution_count": null,
   "metadata": {
    "id": "ksSYLNw8z4ww"
   },
   "outputs": [],
   "source": []
  }
 ],
 "metadata": {
  "colab": {
   "provenance": []
  },
  "kernelspec": {
   "display_name": "Python 3 (ipykernel)",
   "language": "python",
   "name": "python3"
  },
  "language_info": {
   "codemirror_mode": {
    "name": "ipython",
    "version": 3
   },
   "file_extension": ".py",
   "mimetype": "text/x-python",
   "name": "python",
   "nbconvert_exporter": "python",
   "pygments_lexer": "ipython3",
   "version": "3.11.11"
  }
 },
 "nbformat": 4,
 "nbformat_minor": 4
}
