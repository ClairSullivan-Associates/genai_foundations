{
  "nbformat": 4,
  "nbformat_minor": 0,
  "metadata": {
    "colab": {
      "provenance": []
    },
    "kernelspec": {
      "name": "python3",
      "display_name": "Python 3"
    },
    "language_info": {
      "name": "python"
    }
  },
  "cells": [
    {
      "cell_type": "code",
      "execution_count": null,
      "metadata": {
        "id": "PTv-NA-3y4A5"
      },
      "outputs": [],
      "source": [
        "!pip install boto3\n",
        "!pip install langchain\n",
        "!pip install langchain_aws"
      ]
    },
    {
      "cell_type": "code",
      "source": [
        "AWS_DEFAULT_REGION=\"...\"\n",
        "AWS_ACCESS_KEY_ID=\"...\"\n",
        "AWS_SECRET_ACCESS_KEY=\"...\"\n",
        "AWS_SESSION_TOKEN=\"...\""
      ],
      "metadata": {
        "id": "mtQadp4Iy94g"
      },
      "execution_count": null,
      "outputs": []
    },
    {
      "cell_type": "code",
      "source": [
        "import json\n",
        "from pprint import pprint\n",
        "import boto3\n",
        "\n",
        "from langchain.chains import LLMChain\n",
        "from langchain_aws import ChatBedrock\n",
        "from langchain.prompts import ChatPromptTemplate, SystemMessagePromptTemplate, HumanMessagePromptTemplate\n",
        "from langchain.memory import ConversationBufferMemory\n",
        "from langchain_core.output_parsers import StrOutputParser, JsonOutputParser\n",
        "from langchain_core.runnables import RunnableLambda"
      ],
      "metadata": {
        "id": "r7M57G4hzFoJ"
      },
      "execution_count": null,
      "outputs": []
    },
    {
      "cell_type": "markdown",
      "source": [
        "## Question 1:\n",
        "Calculate the previous year's Q2 figures for subscription fees and transaction fees given that the current quarter’s subscription fees are \\$67.7 million (up 7% YoY) and transaction fees are \\$251.9 million (up 19% YoY). Then, verify that the sum of these base amounts aligns with the reported overall 16% increase to a current core revenue of \\$319.6 million. Show all your work and calculations."
      ],
      "metadata": {
        "id": "6Wcr7nlBzIat"
      }
    },
    {
      "cell_type": "code",
      "source": [],
      "metadata": {
        "id": "v-ql0xo5zSiF"
      },
      "execution_count": null,
      "outputs": []
    },
    {
      "cell_type": "markdown",
      "source": [
        "## Question 2:\n",
        "\n",
        "Analyze the Q2 FY25 actual financial results presented in the document.  Discuss how the changes in core revenue, total revenue, operating loss, and net income reflect the company's performance, and explain what these figures might indicate about the company's overall growth trajectory and operational efficiency.  Provide a detailed analysis with supporting insights."
      ],
      "metadata": {
        "id": "4oDUdfiBzhf9"
      }
    },
    {
      "cell_type": "code",
      "source": [],
      "metadata": {
        "id": "lrvN1cgOztzf"
      },
      "execution_count": null,
      "outputs": []
    },
    {
      "cell_type": "markdown",
      "source": [
        "## Question 3:\n",
        "\n",
        "Summarize the key differences between GAAP and non-GAAP financial measures as detailed in the press release. Identify which items are excluded from the non-GAAP calculations and discuss the rationale behind these exclusions from the perspective of financial analysis and investor decision-making."
      ],
      "metadata": {
        "id": "qC0wmukgzuaF"
      }
    },
    {
      "cell_type": "code",
      "source": [],
      "metadata": {
        "id": "D1-MXTuLz0SY"
      },
      "execution_count": null,
      "outputs": []
    },
    {
      "cell_type": "markdown",
      "source": [
        "## Question 4:\n",
        "\n",
        "From the forward-looking statements section, identify at least three major risks or uncertainties that BILL highlights as potentially affecting future performance. Provide a detailed analysis of how each risk could impact the company’s financial results and the overall business outlook."
      ],
      "metadata": {
        "id": "YPwIau8oz1Hp"
      }
    },
    {
      "cell_type": "code",
      "source": [],
      "metadata": {
        "id": "ksSYLNw8z4ww"
      },
      "execution_count": null,
      "outputs": []
    }
  ]
}