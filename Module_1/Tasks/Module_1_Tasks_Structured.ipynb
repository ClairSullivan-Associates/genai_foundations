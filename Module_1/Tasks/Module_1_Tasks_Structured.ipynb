{
 "cells": [
  {
   "cell_type": "code",
   "execution_count": null,
   "metadata": {},
   "outputs": [],
   "source": [
    "import json\n",
    "from pprint import pprint\n",
    "import boto3\n",
    "\n",
    "from langchain.chains import LLMChain\n",
    "from langchain_aws import ChatBedrock\n",
    "from langchain.prompts import ChatPromptTemplate, SystemMessagePromptTemplate, HumanMessagePromptTemplate\n",
    "from langchain.memory import ConversationBufferMemory\n",
    "from langchain_core.output_parsers import StrOutputParser, JsonOutputParser\n",
    "from langchain_core.runnables import RunnableLambda"
   ]
  },
  {
   "cell_type": "code",
   "execution_count": null,
   "metadata": {},
   "outputs": [],
   "source": [
    "session = boto3.session.Session()\n",
    "region = session.region_name"
   ]
  },
  {
   "cell_type": "markdown",
   "metadata": {},
   "source": [
    "# Instructions\n",
    "\n",
    "For the questions in this assignment you will be utilizing the file `ecommerce_data.csv` in the provided S3 bucket."
   ]
  },
  {
   "cell_type": "markdown",
   "metadata": {},
   "source": [
    "# Question 1:\n",
    "\n",
    "Using the dataset, identify the top three best-selling products in each country based on total quantity sold. For each product, calculate the total quantity sold and the total revenue (Quantity × UnitPrice). Return your answer in any format that makes sense providing each key country and its list of the top three products with their 'Description', 'Total Quantity Sold', and 'Total Revenue'."
   ]
  },
  {
   "cell_type": "code",
   "execution_count": null,
   "metadata": {},
   "outputs": [],
   "source": []
  },
  {
   "cell_type": "markdown",
   "metadata": {},
   "source": [
    "# Question 2:\n",
    "\n",
    "Analyze the dataset to compute the average spending per invoice for each country. For every invoice, sum the product of Quantity and UnitPrice to determine its total, then average these totals for each country. Identify which country has the highest average invoice spending. Return your answer in JSON format with each country and its average spending, along with a separate field for the country with the highest average."
   ]
  },
  {
   "cell_type": "code",
   "execution_count": null,
   "metadata": {},
   "outputs": [],
   "source": []
  },
  {
   "cell_type": "markdown",
   "metadata": {},
   "source": [
    "# Question 3:\n",
    "\n",
    "Examine the 'InvoiceDate' field to determine if there are any seasonal patterns in the sales data. Identify the time period (day, week, or month) that shows the highest total sales revenue (calculated as Quantity × UnitPrice). Provide supporting metrics such as total revenue for each period and any observed trends. Return your analysis in JSON format with clear supporting metrics for each period."
   ]
  },
  {
   "cell_type": "code",
   "execution_count": null,
   "metadata": {},
   "outputs": [],
   "source": []
  },
  {
   "cell_type": "markdown",
   "metadata": {},
   "source": [
    "# Question 4:\n",
    "\n",
    "Determine the total sales revenue for each day of the week (Monday, Tuesday, etc.) from the provided e-commerce dataset. For each transaction, compute revenue as Quantity multiplied by UnitPrice, and use the InvoiceDate to determine the day of the week. Then, aggregate the revenue by day of the week and identify which day has the highest total revenue. Return your answer as a JSON object where each key is a day of the week mapped to its total revenue, and include an extra key 'day_with_highest_revenue' indicating the day with the maximum total revenue."
   ]
  },
  {
   "cell_type": "code",
   "execution_count": null,
   "metadata": {},
   "outputs": [],
   "source": []
  }
 ],
 "metadata": {
  "kernelspec": {
   "display_name": "Python 3 (ipykernel)",
   "language": "python",
   "name": "python3"
  },
  "language_info": {
   "codemirror_mode": {
    "name": "ipython",
    "version": 3
   },
   "file_extension": ".py",
   "mimetype": "text/x-python",
   "name": "python",
   "nbconvert_exporter": "python",
   "pygments_lexer": "ipython3",
   "version": "3.11.11"
  }
 },
 "nbformat": 4,
 "nbformat_minor": 4
}
