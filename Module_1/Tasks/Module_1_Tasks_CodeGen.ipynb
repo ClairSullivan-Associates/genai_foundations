{
 "cells": [
  {
   "cell_type": "code",
   "execution_count": 1,
   "metadata": {},
   "outputs": [],
   "source": [
    "import json\n",
    "from pprint import pprint\n",
    "import boto3\n",
    "\n",
    "from langchain.chains import LLMChain\n",
    "from langchain_aws import ChatBedrock\n",
    "from langchain.prompts import ChatPromptTemplate, SystemMessagePromptTemplate, HumanMessagePromptTemplate\n",
    "from langchain.memory import ConversationBufferMemory\n",
    "from langchain_core.output_parsers import StrOutputParser, JsonOutputParser\n",
    "from langchain_core.runnables import RunnableLambda"
   ]
  },
  {
   "cell_type": "code",
   "execution_count": 2,
   "metadata": {},
   "outputs": [],
   "source": [
    "session = boto3.session.Session()\n",
    "region = session.region_name"
   ]
  },
  {
   "cell_type": "markdown",
   "metadata": {},
   "source": [
    "# Question 1:\n",
    "\n",
    "Explain how you would generate boilerplate code for a payment processing microservice in Python that integrates with a payment gateway API. In your explanation, include key considerations for security (e.g., token-based authentication, encryption), error handling, and logging. Provide a sample code snippet."
   ]
  },
  {
   "cell_type": "code",
   "execution_count": null,
   "metadata": {},
   "outputs": [],
   "source": []
  },
  {
   "cell_type": "markdown",
   "metadata": {},
   "source": [
    "# Question 2:\n",
    "\n",
    "An S3 bucket contains a COBOL code block from a mainframe-based payment processing system. Analyze the provided COBOL (`CASH00.cbl` in S3 bucket) program and describe in detail its functionality. In your answer, please include:\n",
    "\n",
    "An explanation of the overall purpose of the program in the context of payment processing.\n",
    "A discussion of how the program uses embedded SQL to interact with a relational database (including the inclusion of modules like SQLCA, DCLCASH, and DCLFRANK).\n",
    "An overview of how the program uses CICS commands (e.g., ASKTIME, FORMATTIME, WRITE, RETURN) for transaction control, timing, and record management.\n",
    "A description of the working storage variables and data structures (such as WS-CALC, WS-COMMAREA, BALANCE-GRP, and the VSAM record structures) and their roles.\n",
    "An analysis of the EVALUATE statement that directs the program to perform different operations (read, add, update, delete, credit, debit) based on the request type (WS-REQ).\n",
    "How the program handles transaction logging by writing to a HISTORY file and managing error/status codes.\n",
    "Return your answer as a clear, structured explanation in plain text."
   ]
  },
  {
   "cell_type": "code",
   "execution_count": null,
   "metadata": {},
   "outputs": [],
   "source": []
  },
  {
   "cell_type": "markdown",
   "metadata": {},
   "source": [
    "# Question 3:\n",
    "\n",
    "You are given a Python code snippet (`my_bad_code.py` in the S3 bucket) that generates API endpoint templates using Flask and Jinja2. The provided code is poorly written: it has no comments, no docstrings, and no type hints. Your task is to refactor this 'bad' code into a 'good' version that adheres to Python best practices. Specifically, you must:\n",
    "\n",
    "Add meaningful docstrings for all functions.\n",
    "Include inline comments that explain key sections of the code.\n",
    "Provide appropriate type hints for function parameters and return values.\n",
    "Ensure that the functionality remains identical to the original code (i.e., it should still generate API endpoint templates for various payment operations).\n",
    "Return your improved code."
   ]
  },
  {
   "cell_type": "code",
   "execution_count": null,
   "metadata": {},
   "outputs": [],
   "source": []
  },
  {
   "cell_type": "markdown",
   "metadata": {},
   "source": [
    "# Question 4:\n",
    "\n",
    "Generate synthetic invoice data for testing an 'is_overdue' function. Produce the data directly (do not output Python code) as a JSON array containing exactly 5 invoice objects. Each invoice object must include the following keys:\n",
    "\n",
    "- invoice_id: a unique identifier generated as a UUID,\n",
    "- customer_name: randomly created,\n",
    "- invoice_date: a date string in 'YYYY-MM-DD' format representing a random date within the past 90 days,\n",
    "- due_date: a date string calculated by adding a random offset (between -30 and 60 days) to the invoice_date,\n",
    "- amount: a random float between 100 and 1000 rounded to two decimal places.\n",
    "\n",
    "The final output should be a JSON-formatted dataset."
   ]
  },
  {
   "cell_type": "code",
   "execution_count": null,
   "metadata": {},
   "outputs": [],
   "source": []
  }
 ],
 "metadata": {
  "kernelspec": {
   "display_name": "Python 3 (ipykernel)",
   "language": "python",
   "name": "python3"
  },
  "language_info": {
   "codemirror_mode": {
    "name": "ipython",
    "version": 3
   },
   "file_extension": ".py",
   "mimetype": "text/x-python",
   "name": "python",
   "nbconvert_exporter": "python",
   "pygments_lexer": "ipython3",
   "version": "3.11.11"
  }
 },
 "nbformat": 4,
 "nbformat_minor": 4
}
